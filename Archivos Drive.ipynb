{
 "cells": [
  {
   "cell_type": "code",
   "execution_count": 1,
   "metadata": {},
   "outputs": [
    {
     "name": "stdout",
     "output_type": "stream",
     "text": [
      "Requirement already satisfied: PyDrive2 in c:\\users\\julio\\anaconda3\\lib\\site-packages (1.10.0)\n",
      "Requirement already satisfied: PyYAML>=3.0 in c:\\users\\julio\\anaconda3\\lib\\site-packages (from PyDrive2) (5.3)\n",
      "Requirement already satisfied: google-api-python-client>=1.12.5 in c:\\users\\julio\\anaconda3\\lib\\site-packages (from PyDrive2) (2.42.0)\n",
      "Requirement already satisfied: pyOpenSSL>=19.1.0 in c:\\users\\julio\\anaconda3\\lib\\site-packages (from PyDrive2) (19.1.0)\n",
      "Requirement already satisfied: oauth2client>=4.0.0 in c:\\users\\julio\\anaconda3\\lib\\site-packages (from PyDrive2) (4.1.3)\n",
      "Requirement already satisfied: six>=1.13.0 in c:\\users\\julio\\anaconda3\\lib\\site-packages (from PyDrive2) (1.14.0)\n",
      "Requirement already satisfied: httplib2<1dev,>=0.15.0 in c:\\users\\julio\\anaconda3\\lib\\site-packages (from google-api-python-client>=1.12.5->PyDrive2) (0.20.4)\n",
      "Requirement already satisfied: google-api-core!=2.0.*,!=2.1.*,!=2.2.*,!=2.3.0,<3.0.0dev,>=1.31.5 in c:\\users\\julio\\anaconda3\\lib\\site-packages (from google-api-python-client>=1.12.5->PyDrive2) (2.7.1)\n",
      "Requirement already satisfied: google-auth<3.0.0dev,>=1.16.0 in c:\\users\\julio\\anaconda3\\lib\\site-packages (from google-api-python-client>=1.12.5->PyDrive2) (2.6.2)\n",
      "Requirement already satisfied: uritemplate<5,>=3.0.1 in c:\\users\\julio\\anaconda3\\lib\\site-packages (from google-api-python-client>=1.12.5->PyDrive2) (4.1.1)\n",
      "Requirement already satisfied: google-auth-httplib2>=0.1.0 in c:\\users\\julio\\anaconda3\\lib\\site-packages (from google-api-python-client>=1.12.5->PyDrive2) (0.1.0)\n",
      "Requirement already satisfied: cryptography>=2.8 in c:\\users\\julio\\anaconda3\\lib\\site-packages (from pyOpenSSL>=19.1.0->PyDrive2) (2.8)\n",
      "Requirement already satisfied: pyasn1>=0.1.7 in c:\\users\\julio\\anaconda3\\lib\\site-packages (from oauth2client>=4.0.0->PyDrive2) (0.4.8)\n",
      "Requirement already satisfied: pyasn1-modules>=0.0.5 in c:\\users\\julio\\anaconda3\\lib\\site-packages (from oauth2client>=4.0.0->PyDrive2) (0.2.8)\n",
      "Requirement already satisfied: rsa>=3.1.4 in c:\\users\\julio\\anaconda3\\lib\\site-packages (from oauth2client>=4.0.0->PyDrive2) (4.8)\n",
      "Requirement already satisfied: pyparsing!=3.0.0,!=3.0.1,!=3.0.2,!=3.0.3,<4,>=2.4.2; python_version > \"3.0\" in c:\\users\\julio\\anaconda3\\lib\\site-packages (from httplib2<1dev,>=0.15.0->google-api-python-client>=1.12.5->PyDrive2) (2.4.6)\n",
      "Requirement already satisfied: protobuf>=3.12.0 in c:\\users\\julio\\anaconda3\\lib\\site-packages (from google-api-core!=2.0.*,!=2.1.*,!=2.2.*,!=2.3.0,<3.0.0dev,>=1.31.5->google-api-python-client>=1.12.5->PyDrive2) (3.19.4)\n",
      "Requirement already satisfied: googleapis-common-protos<2.0dev,>=1.52.0 in c:\\users\\julio\\anaconda3\\lib\\site-packages (from google-api-core!=2.0.*,!=2.1.*,!=2.2.*,!=2.3.0,<3.0.0dev,>=1.31.5->google-api-python-client>=1.12.5->PyDrive2) (1.56.0)\n",
      "Requirement already satisfied: requests<3.0.0dev,>=2.18.0 in c:\\users\\julio\\anaconda3\\lib\\site-packages (from google-api-core!=2.0.*,!=2.1.*,!=2.2.*,!=2.3.0,<3.0.0dev,>=1.31.5->google-api-python-client>=1.12.5->PyDrive2) (2.27.1)\n",
      "Requirement already satisfied: cachetools<6.0,>=2.0.0 in c:\\users\\julio\\anaconda3\\lib\\site-packages (from google-auth<3.0.0dev,>=1.16.0->google-api-python-client>=1.12.5->PyDrive2) (5.0.0)\n",
      "Requirement already satisfied: cffi!=1.11.3,>=1.8 in c:\\users\\julio\\anaconda3\\lib\\site-packages (from cryptography>=2.8->pyOpenSSL>=19.1.0->PyDrive2) (1.14.0)\n",
      "Requirement already satisfied: urllib3<1.27,>=1.21.1 in c:\\users\\julio\\anaconda3\\lib\\site-packages (from requests<3.0.0dev,>=2.18.0->google-api-core!=2.0.*,!=2.1.*,!=2.2.*,!=2.3.0,<3.0.0dev,>=1.31.5->google-api-python-client>=1.12.5->PyDrive2) (1.26.9)\n",
      "Requirement already satisfied: certifi>=2017.4.17 in c:\\users\\julio\\anaconda3\\lib\\site-packages (from requests<3.0.0dev,>=2.18.0->google-api-core!=2.0.*,!=2.1.*,!=2.2.*,!=2.3.0,<3.0.0dev,>=1.31.5->google-api-python-client>=1.12.5->PyDrive2) (2019.11.28)\n",
      "Requirement already satisfied: charset-normalizer~=2.0.0; python_version >= \"3\" in c:\\users\\julio\\anaconda3\\lib\\site-packages (from requests<3.0.0dev,>=2.18.0->google-api-core!=2.0.*,!=2.1.*,!=2.2.*,!=2.3.0,<3.0.0dev,>=1.31.5->google-api-python-client>=1.12.5->PyDrive2) (2.0.12)\n",
      "Requirement already satisfied: idna<4,>=2.5; python_version >= \"3\" in c:\\users\\julio\\anaconda3\\lib\\site-packages (from requests<3.0.0dev,>=2.18.0->google-api-core!=2.0.*,!=2.1.*,!=2.2.*,!=2.3.0,<3.0.0dev,>=1.31.5->google-api-python-client>=1.12.5->PyDrive2) (2.8)\n",
      "Requirement already satisfied: pycparser in c:\\users\\julio\\anaconda3\\lib\\site-packages (from cffi!=1.11.3,>=1.8->cryptography>=2.8->pyOpenSSL>=19.1.0->PyDrive2) (2.19)\n"
     ]
    }
   ],
   "source": [
    "!pip install PyDrive2"
   ]
  },
  {
   "cell_type": "code",
   "execution_count": 2,
   "metadata": {},
   "outputs": [],
   "source": [
    "from pydrive2.auth import GoogleAuth\n",
    "from pydrive2.drive import GoogleDrive\n",
    "\n",
    "directorio_credenciales= 'credentials_module.json'\n",
    "\n",
    "#Iniciar sesión\n",
    "def login():\n",
    "    gauth = GoogleAuth()\n",
    "    gauth.LoadCredentialsFile(directorio_credenciales)\n",
    "\n",
    "    if gauth.access_token_expired:\n",
    "        gauth.Refresh()\n",
    "        gauth.SaveCredentialsFile(directorio_credenciales)\n",
    "    else:\n",
    "        gauth.Authorize()\n",
    "    return GoogleDrive(gauth)\n",
    "\n",
    "#Crear archivo de tezto simple\n",
    "def crear_archivo_texto(nombre_archivo,contenido, id_folder):\n",
    "    credenciales =login()\n",
    "    archivo = credenciales.CreateFile({'title': nombre_archivo,\n",
    "                                    'parents': [{'kind':'driver#fileLink','id':id_folder}]})\n",
    "    archivo.SetContentString(contenido)\n",
    "    archivo.Upload()\n",
    "\n",
    "#Subir un archivo\n",
    "def subir_archivo(ruta_archivo, id_folder):\n",
    "    credenciales = login()\n",
    "    archivo = credenciales.CreateFile({'parents':[{'kind':'driver#fileLink','id':id_folder}]})\n",
    "    archivo['title'] = ruta_archivo.split('/')[-1]\n",
    "    archivo.SetContentFile(ruta_archivo)\n",
    "    archivo.Upload()"
   ]
  },
  {
   "cell_type": "code",
   "execution_count": 3,
   "metadata": {},
   "outputs": [],
   "source": [
    "if __name__ == \"__main__\":\n",
    "    crear_archivo_texto('HolaDriveDeNuevo.txt','Hola Jupyter Drive!, de nuevo','1TmdDKYhA2P1sPSoS2n24PQ2OB0KKRxmX')\n",
    "    subir_archivo('C:/Users/julio/OneDrive/Escritorio/Hola Jupyter Drive.xlsx','1TmdDKYhA2P1sPSoS2n24PQ2OB0KKRxmX')"
   ]
  },
  {
   "cell_type": "code",
   "execution_count": null,
   "metadata": {},
   "outputs": [],
   "source": []
  }
 ],
 "metadata": {
  "kernelspec": {
   "display_name": "Python 3",
   "language": "python",
   "name": "python3"
  },
  "language_info": {
   "codemirror_mode": {
    "name": "ipython",
    "version": 3
   },
   "file_extension": ".py",
   "mimetype": "text/x-python",
   "name": "python",
   "nbconvert_exporter": "python",
   "pygments_lexer": "ipython3",
   "version": "3.7.6"
  }
 },
 "nbformat": 4,
 "nbformat_minor": 4
}
